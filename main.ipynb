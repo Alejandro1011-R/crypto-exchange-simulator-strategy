{
 "cells": [
  {
   "cell_type": "code",
   "execution_count": 2,
   "metadata": {},
   "outputs": [
    {
     "name": "stderr",
     "output_type": "stream",
     "text": [
      "/home/dario/myenv/lib/python3.12/site-packages/tqdm/auto.py:21: TqdmWarning: IProgress not found. Please update jupyter and ipywidgets. See https://ipywidgets.readthedocs.io/en/stable/user_install.html\n",
      "  from .autonotebook import tqdm as notebook_tqdm\n"
     ]
    }
   ],
   "source": [
    "import dash\n",
    "from dash import dcc\n",
    "from dash import html\n",
    "from dash.dependencies import Input, Output\n",
    "import plotly.graph_objs as go\n",
    "import numpy as np\n",
    "import random\n",
    "import pandas as pd\n",
    "from datetime import datetime\n",
    "\n",
    "from market import *\n",
    "from rules_interpreter import ParserReglas\n",
    "from agents import Agente\n",
    "from utils import *\n",
    "from simulation import Simulation"
   ]
  },
  {
   "cell_type": "code",
   "execution_count": 3,
   "metadata": {},
   "outputs": [
    {
     "ename": "TypeError",
     "evalue": "list indices must be integers or slices, not str",
     "output_type": "error",
     "traceback": [
      "\u001b[0;31m---------------------------------------------------------------------------\u001b[0m",
      "\u001b[0;31mTypeError\u001b[0m                                 Traceback (most recent call last)",
      "Cell \u001b[0;32mIn[3], line 21\u001b[0m\n\u001b[1;32m     15\u001b[0m brokers \u001b[38;5;241m=\u001b[39m [\n\u001b[1;32m     16\u001b[0m     Agente(\u001b[38;5;124m'\u001b[39m\u001b[38;5;124mBroker 1\u001b[39m\u001b[38;5;124m'\u001b[39m, rules_buy_low_sell_high,rule_interpreter),\n\u001b[1;32m     17\u001b[0m     Agente(\u001b[38;5;124m'\u001b[39m\u001b[38;5;124mBroker 2\u001b[39m\u001b[38;5;124m'\u001b[39m, rules_momentum,rule_interpreter)\n\u001b[1;32m     18\u001b[0m ]\n\u001b[1;32m     20\u001b[0m simulation \u001b[38;5;241m=\u001b[39m Simulation(\u001b[38;5;241m1000\u001b[39m,\u001b[38;5;241m100\u001b[39m,brokers,market,rule_interpreter)\n\u001b[0;32m---> 21\u001b[0m \u001b[43msimulation\u001b[49m\u001b[38;5;241;43m.\u001b[39;49m\u001b[43mrun\u001b[49m\u001b[43m(\u001b[49m\u001b[43m)\u001b[49m\n",
      "File \u001b[0;32m~/Study/crypto-exchange-simulator/simulation.py:35\u001b[0m, in \u001b[0;36mSimulation.run\u001b[0;34m(self)\u001b[0m\n\u001b[1;32m     32\u001b[0m \u001b[38;5;28;01mfor\u001b[39;00m step \u001b[38;5;129;01min\u001b[39;00m \u001b[38;5;28mrange\u001b[39m(\u001b[38;5;28mself\u001b[39m\u001b[38;5;241m.\u001b[39mnum_steps):\n\u001b[1;32m     33\u001b[0m     \u001b[38;5;66;03m# Simula el sentimiento del mercado\u001b[39;00m\n\u001b[1;32m     34\u001b[0m     \u001b[38;5;28;01mfor\u001b[39;00m crypto \u001b[38;5;129;01min\u001b[39;00m \u001b[38;5;28mself\u001b[39m\u001b[38;5;241m.\u001b[39mmarket\u001b[38;5;241m.\u001b[39mcryptocurrencies:\n\u001b[0;32m---> 35\u001b[0m         \u001b[38;5;28mself\u001b[39m\u001b[38;5;241m.\u001b[39msentiment_history[crypto]\u001b[38;5;241m.\u001b[39mappend(Process( trainer,reddit_instance,\u001b[43msubreddits_list\u001b[49m\u001b[43m[\u001b[49m\u001b[43mcrypto\u001b[49m\u001b[43m]\u001b[49m,post_limit,\u001b[38;5;124m'\u001b[39m\u001b[38;5;124mtrading OR investment OR market OR price\u001b[39m\u001b[38;5;124m'\u001b[39m))\n\u001b[1;32m     37\u001b[0m     \u001b[38;5;66;03m# Los agentes toman decisiones y ejecutan operaciones\u001b[39;00m\n\u001b[1;32m     38\u001b[0m     \u001b[38;5;28;01mfor\u001b[39;00m agent \u001b[38;5;129;01min\u001b[39;00m \u001b[38;5;28mself\u001b[39m\u001b[38;5;241m.\u001b[39magents:\n\u001b[1;32m     39\u001b[0m         \u001b[38;5;66;03m#decisions = agent.decide(self.market)\u001b[39;00m\n",
      "\u001b[0;31mTypeError\u001b[0m: list indices must be integers or slices, not str"
     ]
    }
   ],
   "source": [
    "# Simulación del mercado\n",
    "btc=Cryptocurrency(\"btc\",30000.0,0.9)\n",
    "market=Market([btc])\n",
    "\n",
    "# Cargar reglas desde archivos de texto\n",
    "rules_buy_low_sell_high = load_rules_from_file('rules_buy_low_sell_high.txt')\n",
    "rules_momentum = load_rules_from_file('rules_momentum.txt')\n",
    "\n",
    "# Variables globales para la simulación\n",
    "initial_price = 10000  # precio inicial de la criptomoneda\n",
    "price_history = [initial_price]\n",
    "rule_interpreter = ParserReglas(price_history)\n",
    "\n",
    "# Crear brokers con diferentes estrategias\n",
    "brokers = [\n",
    "    Agente('Broker 1', rules_buy_low_sell_high,rule_interpreter),\n",
    "    Agente('Broker 2', rules_momentum,rule_interpreter)\n",
    "]\n",
    "\n",
    "simulation = Simulation(1000,100,brokers,market,rule_interpreter)\n",
    "simulation.run()"
   ]
  }
 ],
 "metadata": {
  "kernelspec": {
   "display_name": "myenv",
   "language": "python",
   "name": "python3"
  },
  "language_info": {
   "codemirror_mode": {
    "name": "ipython",
    "version": 3
   },
   "file_extension": ".py",
   "mimetype": "text/x-python",
   "name": "python",
   "nbconvert_exporter": "python",
   "pygments_lexer": "ipython3",
   "version": "3.12.3"
  }
 },
 "nbformat": 4,
 "nbformat_minor": 2
}
