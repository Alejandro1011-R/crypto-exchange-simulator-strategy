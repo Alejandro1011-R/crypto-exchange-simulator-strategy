{
 "cells": [
  {
   "cell_type": "code",
   "execution_count": 1,
   "metadata": {},
   "outputs": [],
   "source": [
    "import dash\n",
    "from dash import dcc\n",
    "from dash import html\n",
    "from dash.dependencies import Input, Output\n",
    "import plotly.graph_objs as go\n",
    "import numpy as np\n",
    "import random\n",
    "import pandas as pd\n",
    "from datetime import datetime\n",
    "\n",
    "from market import *\n",
    "from rules_interpreter import ParserReglas\n",
    "from agents import Agente\n",
    "from utils import *\n",
    "from simulation import Simulation"
   ]
  },
  {
   "cell_type": "code",
   "execution_count": 2,
   "metadata": {},
   "outputs": [
    {
     "ename": "ValueError",
     "evalue": "Condición no válida: price < np.mean(price_history[-5:]) * 0.95",
     "output_type": "error",
     "traceback": [
      "\u001b[0;31m---------------------------------------------------------------------------\u001b[0m",
      "\u001b[0;31mValueError\u001b[0m                                Traceback (most recent call last)",
      "Cell \u001b[0;32mIn[2], line 21\u001b[0m\n\u001b[1;32m     15\u001b[0m brokers \u001b[38;5;241m=\u001b[39m [\n\u001b[1;32m     16\u001b[0m     Agente(\u001b[38;5;124m'\u001b[39m\u001b[38;5;124mBroker 1\u001b[39m\u001b[38;5;124m'\u001b[39m, rules_buy_low_sell_high,rule_interpreter),\n\u001b[1;32m     17\u001b[0m     Agente(\u001b[38;5;124m'\u001b[39m\u001b[38;5;124mBroker 2\u001b[39m\u001b[38;5;124m'\u001b[39m, rules_momentum,rule_interpreter)\n\u001b[1;32m     18\u001b[0m ]\n\u001b[1;32m     20\u001b[0m simulation \u001b[38;5;241m=\u001b[39m Simulation(\u001b[38;5;241m1000\u001b[39m,\u001b[38;5;241m100\u001b[39m,brokers,market,rule_interpreter)\n\u001b[0;32m---> 21\u001b[0m \u001b[43msimulation\u001b[49m\u001b[38;5;241;43m.\u001b[39;49m\u001b[43mrun\u001b[49m\u001b[43m(\u001b[49m\u001b[43m)\u001b[49m\n",
      "File \u001b[0;32m~/Study/crypto-exchange-simulator/simulation.py:30\u001b[0m, in \u001b[0;36mSimulation.run\u001b[0;34m(self)\u001b[0m\n\u001b[1;32m     27\u001b[0m \u001b[38;5;66;03m# Los agentes toman decisiones y ejecutan operaciones\u001b[39;00m\n\u001b[1;32m     28\u001b[0m \u001b[38;5;28;01mfor\u001b[39;00m agent \u001b[38;5;129;01min\u001b[39;00m \u001b[38;5;28mself\u001b[39m\u001b[38;5;241m.\u001b[39magents:\n\u001b[1;32m     29\u001b[0m     \u001b[38;5;66;03m#decisions = agent.decide(self.market)\u001b[39;00m\n\u001b[0;32m---> 30\u001b[0m     decision \u001b[38;5;241m=\u001b[39m \u001b[43magent\u001b[49m\u001b[38;5;241;43m.\u001b[39;49m\u001b[43mtomar_decision\u001b[49m\u001b[43m(\u001b[49m\u001b[38;5;28;43mself\u001b[39;49m\u001b[38;5;241;43m.\u001b[39;49m\u001b[43mmarket\u001b[49m\u001b[43m)\u001b[49m\n\u001b[1;32m     31\u001b[0m     \u001b[38;5;66;03m# agent.execute_trades(self.market, decisions)\u001b[39;00m\n\u001b[1;32m     32\u001b[0m     agent\u001b[38;5;241m.\u001b[39mejecutar_accion(decision,\u001b[38;5;28mself\u001b[39m\u001b[38;5;241m.\u001b[39mmarket,decision[\u001b[38;5;241m1\u001b[39m])\n",
      "File \u001b[0;32m~/Study/crypto-exchange-simulator/agents.py:26\u001b[0m, in \u001b[0;36mAgente.tomar_decision\u001b[0;34m(self, contexto)\u001b[0m\n\u001b[1;32m     23\u001b[0m \u001b[38;5;66;03m# Itera sobre cada regla para evaluarla en el contexto actual\u001b[39;00m\n\u001b[1;32m     24\u001b[0m \u001b[38;5;28;01mfor\u001b[39;00m regla \u001b[38;5;129;01min\u001b[39;00m \u001b[38;5;28mself\u001b[39m\u001b[38;5;241m.\u001b[39mreglas:\n\u001b[1;32m     25\u001b[0m     \u001b[38;5;66;03m# Analiza la regla y la aplica al contexto de mercado\u001b[39;00m\n\u001b[0;32m---> 26\u001b[0m     parsed_conditions, accion \u001b[38;5;241m=\u001b[39m \u001b[38;5;28;43mself\u001b[39;49m\u001b[38;5;241;43m.\u001b[39;49m\u001b[43mparser_reglas\u001b[49m\u001b[38;5;241;43m.\u001b[39;49m\u001b[43mparse_rule\u001b[49m\u001b[43m(\u001b[49m\u001b[43mregla\u001b[49m\u001b[43m)\u001b[49m\n\u001b[1;32m     27\u001b[0m     resultado \u001b[38;5;241m=\u001b[39m \u001b[38;5;28mself\u001b[39m\u001b[38;5;241m.\u001b[39mparser_reglas\u001b[38;5;241m.\u001b[39maplicar_regla(parsed_conditions, accion, contexto)\n\u001b[1;32m     29\u001b[0m     \u001b[38;5;66;03m# Actualiza la mejor acción si el resultado de esta regla es superior\u001b[39;00m\n",
      "File \u001b[0;32m~/Study/crypto-exchange-simulator/rules_interpreter.py:94\u001b[0m, in \u001b[0;36mParserReglas.parse_rule\u001b[0;34m(self, rule)\u001b[0m\n\u001b[1;32m     91\u001b[0m action_str \u001b[38;5;241m=\u001b[39m match\u001b[38;5;241m.\u001b[39mgroup(\u001b[38;5;241m2\u001b[39m)\u001b[38;5;241m.\u001b[39mstrip()\n\u001b[1;32m     93\u001b[0m \u001b[38;5;66;03m# Analiza las condiciones y la acción por separado\u001b[39;00m\n\u001b[0;32m---> 94\u001b[0m parsed_conditions \u001b[38;5;241m=\u001b[39m \u001b[38;5;28;43mself\u001b[39;49m\u001b[38;5;241;43m.\u001b[39;49m\u001b[43mparse_conditions\u001b[49m\u001b[43m(\u001b[49m\u001b[43mconditions_str\u001b[49m\u001b[43m)\u001b[49m\n\u001b[1;32m     95\u001b[0m action \u001b[38;5;241m=\u001b[39m \u001b[38;5;28mself\u001b[39m\u001b[38;5;241m.\u001b[39mparse_action(action_str)\n\u001b[1;32m     97\u001b[0m \u001b[38;5;28;01mreturn\u001b[39;00m parsed_conditions, action\n",
      "File \u001b[0;32m~/Study/crypto-exchange-simulator/rules_interpreter.py:124\u001b[0m, in \u001b[0;36mParserReglas.parse_conditions\u001b[0;34m(self, conditions_str)\u001b[0m\n\u001b[1;32m    121\u001b[0m     negated \u001b[38;5;241m=\u001b[39m \u001b[38;5;28;01mFalse\u001b[39;00m\n\u001b[1;32m    123\u001b[0m \u001b[38;5;66;03m# Analiza cada condición individualmente\u001b[39;00m\n\u001b[0;32m--> 124\u001b[0m parsed_condition \u001b[38;5;241m=\u001b[39m \u001b[38;5;28;43mself\u001b[39;49m\u001b[38;5;241;43m.\u001b[39;49m\u001b[43mparse_single_condition\u001b[49m\u001b[43m(\u001b[49m\u001b[43mcondition\u001b[49m\u001b[43m)\u001b[49m\n\u001b[1;32m    125\u001b[0m \u001b[38;5;28;01mif\u001b[39;00m negated:\n\u001b[1;32m    126\u001b[0m     parsed_condition \u001b[38;5;241m=\u001b[39m (\u001b[38;5;124m\"\u001b[39m\u001b[38;5;124mNOT\u001b[39m\u001b[38;5;124m\"\u001b[39m, parsed_condition)  \u001b[38;5;66;03m# Marca la condición como negada\u001b[39;00m\n",
      "File \u001b[0;32m~/Study/crypto-exchange-simulator/rules_interpreter.py:139\u001b[0m, in \u001b[0;36mParserReglas.parse_single_condition\u001b[0;34m(self, condition)\u001b[0m\n\u001b[1;32m    137\u001b[0m match \u001b[38;5;241m=\u001b[39m re\u001b[38;5;241m.\u001b[39mmatch(pattern, condition)\n\u001b[1;32m    138\u001b[0m \u001b[38;5;28;01mif\u001b[39;00m \u001b[38;5;129;01mnot\u001b[39;00m match:\n\u001b[0;32m--> 139\u001b[0m     \u001b[38;5;28;01mraise\u001b[39;00m \u001b[38;5;167;01mValueError\u001b[39;00m(\u001b[38;5;124mf\u001b[39m\u001b[38;5;124m\"\u001b[39m\u001b[38;5;124mCondición no válida: \u001b[39m\u001b[38;5;132;01m{\u001b[39;00mcondition\u001b[38;5;132;01m}\u001b[39;00m\u001b[38;5;124m\"\u001b[39m)  \u001b[38;5;66;03m# Lanza un error si la condición no tiene el formato correcto\u001b[39;00m\n\u001b[1;32m    141\u001b[0m \u001b[38;5;66;03m# Extrae las partes de la condición: variable, operador, valor\u001b[39;00m\n\u001b[1;32m    142\u001b[0m var, operator, val \u001b[38;5;241m=\u001b[39m match\u001b[38;5;241m.\u001b[39mgroups()\n",
      "\u001b[0;31mValueError\u001b[0m: Condición no válida: price < np.mean(price_history[-5:]) * 0.95"
     ]
    }
   ],
   "source": [
    "# Simulación del mercado\n",
    "btc=Cryptocurrency(\"btc\",30000.0,0.9)\n",
    "market=Market([btc])\n",
    "\n",
    "# Cargar reglas desde archivos de texto\n",
    "rules_buy_low_sell_high = load_rules_from_file('rules_buy_low_sell_high.txt')\n",
    "rules_momentum = load_rules_from_file('rules_momentum.txt')\n",
    "\n",
    "# Variables globales para la simulación\n",
    "initial_price = 10000  # precio inicial de la criptomoneda\n",
    "price_history = [initial_price]\n",
    "rule_interpreter = ParserReglas(price_history)\n",
    "\n",
    "# Crear brokers con diferentes estrategias\n",
    "brokers = [\n",
    "    Agente('Broker 1', rules_buy_low_sell_high,rule_interpreter),\n",
    "    Agente('Broker 2', rules_momentum,rule_interpreter)\n",
    "]\n",
    "\n",
    "simulation = Simulation(1000,100,brokers,market,rule_interpreter)\n",
    "simulation.run()"
   ]
  }
 ],
 "metadata": {
  "kernelspec": {
   "display_name": "myenv",
   "language": "python",
   "name": "python3"
  },
  "language_info": {
   "codemirror_mode": {
    "name": "ipython",
    "version": 3
   },
   "file_extension": ".py",
   "mimetype": "text/x-python",
   "name": "python",
   "nbconvert_exporter": "python",
   "pygments_lexer": "ipython3",
   "version": "3.12.3"
  }
 },
 "nbformat": 4,
 "nbformat_minor": 2
}
