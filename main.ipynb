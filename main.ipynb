{
 "cells": [
  {
   "cell_type": "code",
   "execution_count": 1,
   "metadata": {},
   "outputs": [
    {
     "name": "stderr",
     "output_type": "stream",
     "text": [
      "/home/dario/myenv/lib/python3.12/site-packages/tqdm/auto.py:21: TqdmWarning: IProgress not found. Please update jupyter and ipywidgets. See https://ipywidgets.readthedocs.io/en/stable/user_install.html\n",
      "  from .autonotebook import tqdm as notebook_tqdm\n"
     ]
    }
   ],
   "source": [
    "import dash\n",
    "from dash import dcc\n",
    "from dash import html\n",
    "from dash.dependencies import Input, Output\n",
    "import plotly.graph_objs as go\n",
    "import numpy as np\n",
    "import random\n",
    "import pandas as pd\n",
    "from datetime import datetime\n",
    "\n",
    "from market import *\n",
    "from rules_interpreter import ParserReglas\n",
    "from agents import Agente\n",
    "from utils import *\n",
    "from simulation import Simulation"
   ]
  },
  {
   "cell_type": "code",
   "execution_count": 2,
   "metadata": {},
   "outputs": [
    {
     "name": "stdout",
     "output_type": "stream",
     "text": [
      "8\n",
      "Message: One of my friend referred me to [https://torque.asia/](https://torque.asia/)\n",
      "\n",
      "Is this for real?...\n",
      "Relevance: 0.0\n",
      "\n",
      "\n",
      "Message: Hello I am New here.  I am 25 year old bguy working and studying.  I want to start trading crypto tr...\n",
      "Relevance: 0.0\n",
      "\n",
      "\n",
      "Message: Hi All,\n",
      "\n",
      "Whether you're new to the cryptocurrency scene or simply want to try a different experience...\n",
      "Relevance: 0.0\n",
      "\n",
      "\n",
      "Message: https://www.dcptgsz.com/?tid=W7SJEP...\n",
      "Relevance: 0.0\n",
      "\n",
      "\n",
      "Message: Well, we are here, for the first time ever price is lower than 5 years ago. \n",
      "\n",
      "Dec 11th, 2017: 17,270...\n",
      "Relevance: -0.9828382933674918\n",
      "\n",
      "\n",
      "Message: Welcome to Jumeirah VIP, the most popular part-time job mall in 2024, we solemnly promise that this ...\n",
      "Relevance: -0.9771467060211843\n",
      "\n",
      "\n",
      "Message: Today Moons were listed on Bitrue exchange. Once the trading started there was very little liquidity...\n",
      "Relevance: -0.9270988172125454\n",
      "\n",
      "\n",
      "Message: https://preview.redd.it/loxbtt687f2d1.png?width=1280&format=png&auto=webp&s=8b3612103be0d26560607a73...\n",
      "Relevance: 0.9770817762725507\n",
      "\n",
      "\n"
     ]
    },
    {
     "ename": "UnboundLocalError",
     "evalue": "cannot access local variable 'result' where it is not associated with a value",
     "output_type": "error",
     "traceback": [
      "\u001b[0;31m---------------------------------------------------------------------------\u001b[0m",
      "\u001b[0;31mUnboundLocalError\u001b[0m                         Traceback (most recent call last)",
      "Cell \u001b[0;32mIn[2], line 21\u001b[0m\n\u001b[1;32m     15\u001b[0m brokers \u001b[38;5;241m=\u001b[39m [\n\u001b[1;32m     16\u001b[0m     Agente(\u001b[38;5;124m'\u001b[39m\u001b[38;5;124mBroker 1\u001b[39m\u001b[38;5;124m'\u001b[39m, rules_buy_low_sell_high,rule_interpreter),\n\u001b[1;32m     17\u001b[0m     Agente(\u001b[38;5;124m'\u001b[39m\u001b[38;5;124mBroker 2\u001b[39m\u001b[38;5;124m'\u001b[39m, rules_momentum,rule_interpreter)\n\u001b[1;32m     18\u001b[0m ]\n\u001b[1;32m     20\u001b[0m simulation \u001b[38;5;241m=\u001b[39m Simulation(\u001b[38;5;241m1000\u001b[39m,\u001b[38;5;241m100\u001b[39m,brokers,market,rule_interpreter)\n\u001b[0;32m---> 21\u001b[0m \u001b[43msimulation\u001b[49m\u001b[38;5;241;43m.\u001b[39;49m\u001b[43mrun\u001b[49m\u001b[43m(\u001b[49m\u001b[43m)\u001b[49m\n",
      "File \u001b[0;32m~/Study/crypto-exchange-simulator/simulation.py:40\u001b[0m, in \u001b[0;36mSimulation.run\u001b[0;34m(self)\u001b[0m\n\u001b[1;32m     37\u001b[0m \u001b[38;5;66;03m# Los agentes toman decisiones y ejecutan operaciones\u001b[39;00m\n\u001b[1;32m     38\u001b[0m \u001b[38;5;28;01mfor\u001b[39;00m agent \u001b[38;5;129;01min\u001b[39;00m \u001b[38;5;28mself\u001b[39m\u001b[38;5;241m.\u001b[39magents:\n\u001b[1;32m     39\u001b[0m     \u001b[38;5;66;03m#decisions = agent.decide(self.market)\u001b[39;00m\n\u001b[0;32m---> 40\u001b[0m     decision \u001b[38;5;241m=\u001b[39m \u001b[43magent\u001b[49m\u001b[38;5;241;43m.\u001b[39;49m\u001b[43mtomar_decision\u001b[49m\u001b[43m(\u001b[49m\u001b[38;5;28;43mself\u001b[39;49m\u001b[38;5;241;43m.\u001b[39;49m\u001b[43mmarket\u001b[49m\u001b[43m)\u001b[49m\n\u001b[1;32m     41\u001b[0m     \u001b[38;5;66;03m# agent.execute_trades(self.market, decisions)\u001b[39;00m\n\u001b[1;32m     42\u001b[0m     agent\u001b[38;5;241m.\u001b[39mejecutar_accion(decision,\u001b[38;5;28mself\u001b[39m\u001b[38;5;241m.\u001b[39mmarket,decision[\u001b[38;5;241m1\u001b[39m])\n",
      "File \u001b[0;32m~/Study/crypto-exchange-simulator/agents.py:27\u001b[0m, in \u001b[0;36mAgente.tomar_decision\u001b[0;34m(self, contexto)\u001b[0m\n\u001b[1;32m     24\u001b[0m \u001b[38;5;28;01mfor\u001b[39;00m regla \u001b[38;5;129;01min\u001b[39;00m \u001b[38;5;28mself\u001b[39m\u001b[38;5;241m.\u001b[39mreglas:\n\u001b[1;32m     25\u001b[0m     \u001b[38;5;66;03m# Analiza la regla y la aplica al contexto de mercado\u001b[39;00m\n\u001b[1;32m     26\u001b[0m     parsed_conditions, accion \u001b[38;5;241m=\u001b[39m \u001b[38;5;28mself\u001b[39m\u001b[38;5;241m.\u001b[39mparser_reglas\u001b[38;5;241m.\u001b[39mparse_rule(regla)\n\u001b[0;32m---> 27\u001b[0m     resultado \u001b[38;5;241m=\u001b[39m \u001b[38;5;28;43mself\u001b[39;49m\u001b[38;5;241;43m.\u001b[39;49m\u001b[43mparser_reglas\u001b[49m\u001b[38;5;241;43m.\u001b[39;49m\u001b[43maplicar_regla\u001b[49m\u001b[43m(\u001b[49m\u001b[43mparsed_conditions\u001b[49m\u001b[43m,\u001b[49m\u001b[43m \u001b[49m\u001b[43maccion\u001b[49m\u001b[43m,\u001b[49m\u001b[43m \u001b[49m\u001b[43mcontexto\u001b[49m\u001b[43m)\u001b[49m\n\u001b[1;32m     29\u001b[0m     \u001b[38;5;66;03m# Actualiza la mejor acción si el resultado de esta regla es superior\u001b[39;00m\n\u001b[1;32m     30\u001b[0m     \u001b[38;5;28;01mif\u001b[39;00m \u001b[38;5;28mabs\u001b[39m(resultado[\u001b[38;5;241m0\u001b[39m]) \u001b[38;5;241m>\u001b[39m \u001b[38;5;28mabs\u001b[39m(mejor_resultado[\u001b[38;5;241m0\u001b[39m]):\n",
      "File \u001b[0;32m~/Study/crypto-exchange-simulator/rules_interpreter.py:214\u001b[0m, in \u001b[0;36mParserReglas.aplicar_regla\u001b[0;34m(self, parsed_conditions, action, contexto)\u001b[0m\n\u001b[1;32m    211\u001b[0m \u001b[38;5;28;01mif\u001b[39;00m or_results:\n\u001b[1;32m    212\u001b[0m     \u001b[38;5;66;03m# La lógica OR se aplica usando el máximo de los resultados\u001b[39;00m\n\u001b[1;32m    213\u001b[0m     result \u001b[38;5;241m=\u001b[39m \u001b[38;5;28mmax\u001b[39m(or_results, key\u001b[38;5;241m=\u001b[39m\u001b[38;5;28;01mlambda\u001b[39;00m x: x[\u001b[38;5;241m0\u001b[39m])\n\u001b[0;32m--> 214\u001b[0m \u001b[38;5;28;01mreturn\u001b[39;00m ((\u001b[43mresult\u001b[49m[\u001b[38;5;241m0\u001b[39m]\u001b[38;5;241m*\u001b[39maction), result[\u001b[38;5;241m1\u001b[39m])\n",
      "\u001b[0;31mUnboundLocalError\u001b[0m: cannot access local variable 'result' where it is not associated with a value"
     ]
    }
   ],
   "source": [
    "# Simulación del mercado\n",
    "btc=Cryptocurrency(\"Bitcoin\",30000.0,0.9)\n",
    "market=Market([btc])\n",
    "\n",
    "# Cargar reglas desde archivos de texto\n",
    "rules_buy_low_sell_high = load_rules_from_file('rules_buy_low_sell_high.txt')\n",
    "rules_momentum = load_rules_from_file('rules_momentum.txt')\n",
    "\n",
    "# Variables globales para la simulación\n",
    "initial_price = 10000  # precio inicial de la criptomoneda\n",
    "price_history = [initial_price]\n",
    "rule_interpreter = ParserReglas(price_history)\n",
    "\n",
    "# Crear brokers con diferentes estrategias\n",
    "brokers = [\n",
    "    Agente('Broker 1', rules_buy_low_sell_high,rule_interpreter),\n",
    "    Agente('Broker 2', rules_momentum,rule_interpreter)\n",
    "]\n",
    "\n",
    "simulation = Simulation(1000,100,brokers,market,rule_interpreter)\n",
    "simulation.run()"
   ]
  }
 ],
 "metadata": {
  "kernelspec": {
   "display_name": "myenv",
   "language": "python",
   "name": "python3"
  },
  "language_info": {
   "codemirror_mode": {
    "name": "ipython",
    "version": 3
   },
   "file_extension": ".py",
   "mimetype": "text/x-python",
   "name": "python",
   "nbconvert_exporter": "python",
   "pygments_lexer": "ipython3",
   "version": "3.12.5"
  }
 },
 "nbformat": 4,
 "nbformat_minor": 2
}
